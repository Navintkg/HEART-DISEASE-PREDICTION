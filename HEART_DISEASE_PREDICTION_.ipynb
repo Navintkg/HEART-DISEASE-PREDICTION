{
  "cells": [
    {
      "cell_type": "markdown",
      "metadata": {
        "id": "view-in-github",
        "colab_type": "text"
      },
      "source": [
        "<a href=\"https://colab.research.google.com/github/Navintkg/HEART-DISEASE-PREDICTION/blob/main/HEART_DISEASE_PREDICTION_.ipynb\" target=\"_parent\"><img src=\"https://colab.research.google.com/assets/colab-badge.svg\" alt=\"Open In Colab\"/></a>"
      ]
    },
    {
      "cell_type": "code",
      "execution_count": null,
      "metadata": {
        "id": "nQ65oDnQk-zi"
      },
      "outputs": [],
      "source": [
        "import os\n",
        "import numpy as np\n",
        "import pandas as pd\n",
        "import seaborn as sns\n",
        "import statsmodels.api as sm\n",
        "from statsmodels.formula.api import ols\n",
        "import scipy\n",
        "from scipy.stats import chi2,chi2_contingency\n",
        "from statsmodels.stats.multicomp import pairwise_tukeyhsd\n",
        "import matplotlib.pyplot as plt"
      ]
    },
    {
      "cell_type": "code",
      "execution_count": null,
      "metadata": {
        "id": "29Zy0mUfk-zz"
      },
      "outputs": [],
      "source": [
        "df = pd.read_csv(\"/content/heart.csv\")\n",
        "df = pd.DataFrame(df)\n",
        "df.isnull().sum()\n",
        "df.info()"
      ]
    },
    {
      "cell_type": "code",
      "execution_count": null,
      "metadata": {
        "id": "QLaMxJ6Ek-z1"
      },
      "outputs": [],
      "source": [
        "df.HeartDisease.isna().sum()"
      ]
    },
    {
      "cell_type": "code",
      "execution_count": null,
      "metadata": {
        "id": "85kHsNZTk-z2"
      },
      "outputs": [],
      "source": [
        "df.HeartDisease.value_counts()"
      ]
    },
    {
      "cell_type": "code",
      "execution_count": null,
      "metadata": {
        "id": "c63fEEmTk-z2"
      },
      "outputs": [],
      "source": [
        "sns.countplot(df.HeartDisease)\n",
        "plt.title('Countplot of HeartDisease')"
      ]
    },
    {
      "cell_type": "markdown",
      "metadata": {
        "id": "3_Pa3drxk-z3"
      },
      "source": [
        "# 1st variable Age"
      ]
    },
    {
      "cell_type": "code",
      "execution_count": null,
      "metadata": {
        "id": "tn98mFeHk-z5"
      },
      "outputs": [],
      "source": [
        "df.Age.isna().sum()"
      ]
    },
    {
      "cell_type": "code",
      "execution_count": null,
      "metadata": {
        "id": "voHuORgwk-z7"
      },
      "outputs": [],
      "source": [
        "df.Age.value_counts()"
      ]
    },
    {
      "cell_type": "code",
      "execution_count": null,
      "metadata": {
        "id": "Z8PTRLBuk-z8"
      },
      "outputs": [],
      "source": [
        "df.Age.describe()"
      ]
    },
    {
      "cell_type": "code",
      "execution_count": null,
      "metadata": {
        "id": "ROqS6Ytvk-z9"
      },
      "outputs": [],
      "source": [
        "plt.hist(df.Age)\n",
        "plt.title('Age')\n",
        "plt.figure(figsize=(10,5))"
      ]
    },
    {
      "cell_type": "code",
      "execution_count": null,
      "metadata": {
        "id": "p7xI6v0Sk-z-"
      },
      "outputs": [],
      "source": [
        "sns.boxplot(df.Age, color = 'red')\n",
        "plt.xlabel('Age')"
      ]
    },
    {
      "cell_type": "code",
      "execution_count": null,
      "metadata": {
        "id": "nOeXxH5wk-z_"
      },
      "outputs": [],
      "source": [
        "sns.distplot(df.Age, color = 'red')\n",
        "plt.xlabel('Age')"
      ]
    },
    {
      "cell_type": "code",
      "execution_count": null,
      "metadata": {
        "id": "c7Z1fvnpk-z_"
      },
      "outputs": [],
      "source": [
        "sns.catplot(x=\"HeartDisease\",y=\"Age\",kind=\"swarm\",data=df)\n",
        "plt.title('Age v/s HeartDisease')"
      ]
    },
    {
      "cell_type": "code",
      "execution_count": null,
      "metadata": {
        "id": "tHOL7LwIk-0A"
      },
      "outputs": [],
      "source": [
        "sns.boxplot(x=\"HeartDisease\",y=\"Age\",data=df)\n",
        "plt.title('Age v/s HeartDisease')"
      ]
    },
    {
      "cell_type": "code",
      "execution_count": null,
      "metadata": {
        "id": "H9XAz2ltk-0B"
      },
      "outputs": [],
      "source": [
        "mod = ols ('Age~HeartDisease',data=df).fit()"
      ]
    },
    {
      "cell_type": "code",
      "execution_count": null,
      "metadata": {
        "id": "WFYcvPO5k-0B"
      },
      "outputs": [],
      "source": [
        "sm.stats.anova_lm(mod)"
      ]
    },
    {
      "cell_type": "code",
      "execution_count": null,
      "metadata": {
        "id": "DYMzE3p1k-0B"
      },
      "outputs": [],
      "source": [
        "tukey=pairwise_tukeyhsd(df.Age,df.HeartDisease,alpha =0.05)"
      ]
    },
    {
      "cell_type": "code",
      "execution_count": null,
      "metadata": {
        "id": "mz-csG6lk-0C"
      },
      "outputs": [],
      "source": [
        "print(tukey)"
      ]
    },
    {
      "cell_type": "markdown",
      "metadata": {
        "id": "Mp08gLfBk-0C"
      },
      "source": [
        "# 2nd variable Sex"
      ]
    },
    {
      "cell_type": "code",
      "execution_count": null,
      "metadata": {
        "id": "9HPk2AI4k-0D"
      },
      "outputs": [],
      "source": [
        "df.Sex.isna().sum()"
      ]
    },
    {
      "cell_type": "code",
      "execution_count": null,
      "metadata": {
        "id": "Q_1D2jHfk-0D"
      },
      "outputs": [],
      "source": [
        "df.Sex.value_counts()"
      ]
    },
    {
      "cell_type": "code",
      "execution_count": null,
      "metadata": {
        "id": "HglGpo_Mk-0D"
      },
      "outputs": [],
      "source": [
        "sns.countplot(x=\"Sex\",data=df)\n",
        "plt.title('Countplot of Sex')"
      ]
    },
    {
      "cell_type": "code",
      "source": [],
      "metadata": {
        "id": "3evPQHKV6ev3"
      },
      "execution_count": null,
      "outputs": []
    },
    {
      "cell_type": "code",
      "execution_count": null,
      "metadata": {
        "id": "U3vr2lkdk-0E"
      },
      "outputs": [],
      "source": [
        "sns.countplot(df.Sex,hue=df.HeartDisease)\n",
        "plt.title(' Sex vs HeartDisease')"
      ]
    },
    {
      "cell_type": "code",
      "execution_count": null,
      "metadata": {
        "id": "WYKz8WfFk-0F"
      },
      "outputs": [],
      "source": [
        "ct1=pd.crosstab(df.Sex,df.HeartDisease)"
      ]
    },
    {
      "cell_type": "code",
      "execution_count": null,
      "metadata": {
        "id": "0TFVX9y8k-0F"
      },
      "outputs": [],
      "source": [
        "ct1"
      ]
    },
    {
      "cell_type": "code",
      "execution_count": null,
      "metadata": {
        "id": "nw_zMPQmk-0F"
      },
      "outputs": [],
      "source": [
        "chi2_contingency(ct1,correction=False)"
      ]
    },
    {
      "cell_type": "markdown",
      "metadata": {
        "id": "JhQMbs3vk-0G"
      },
      "source": [
        "# 3rd variable ChestPainType"
      ]
    },
    {
      "cell_type": "code",
      "execution_count": null,
      "metadata": {
        "id": "FMx6stSIk-0G"
      },
      "outputs": [],
      "source": [
        "df.ChestPainType.isna().sum()"
      ]
    },
    {
      "cell_type": "code",
      "execution_count": null,
      "metadata": {
        "id": "D7d552Ohk-0H"
      },
      "outputs": [],
      "source": [
        "df.ChestPainType.value_counts()"
      ]
    },
    {
      "cell_type": "code",
      "execution_count": null,
      "metadata": {
        "id": "BTnlikubk-0H"
      },
      "outputs": [],
      "source": [
        "sns.countplot(df.ChestPainType)\n",
        "plt.title('Countplot of ChestPainType')"
      ]
    },
    {
      "cell_type": "code",
      "execution_count": null,
      "metadata": {
        "id": "4tw5xe75k-0I"
      },
      "outputs": [],
      "source": [
        "sns.countplot(df.ChestPainType,hue=df.HeartDisease)\n",
        "plt.title(' ChestPainType vs HeartDisease')"
      ]
    },
    {
      "cell_type": "code",
      "execution_count": null,
      "metadata": {
        "id": "v-euhDi4k-0J"
      },
      "outputs": [],
      "source": [
        "ct2=pd.crosstab(df.ChestPainType,df.HeartDisease)"
      ]
    },
    {
      "cell_type": "code",
      "execution_count": null,
      "metadata": {
        "id": "ScmOGHIvk-0J"
      },
      "outputs": [],
      "source": [
        "ct2"
      ]
    },
    {
      "cell_type": "code",
      "execution_count": null,
      "metadata": {
        "id": "xAyS2b9ok-0K"
      },
      "outputs": [],
      "source": [
        "c2=chi2_contingency(ct2,correction=False)"
      ]
    },
    {
      "cell_type": "code",
      "execution_count": null,
      "metadata": {
        "id": "R0rlFOI0k-0L"
      },
      "outputs": [],
      "source": [
        "c2"
      ]
    },
    {
      "cell_type": "markdown",
      "metadata": {
        "id": "bTpsQjbIk-0L"
      },
      "source": [
        "# 4th variable RestingBP"
      ]
    },
    {
      "cell_type": "code",
      "execution_count": null,
      "metadata": {
        "id": "iYynfKADk-0M"
      },
      "outputs": [],
      "source": [
        "df.RestingBP.isna().sum()"
      ]
    },
    {
      "cell_type": "code",
      "execution_count": null,
      "metadata": {
        "id": "y-yk_dMgk-0M"
      },
      "outputs": [],
      "source": [
        "df.RestingBP.value_counts()"
      ]
    },
    {
      "cell_type": "code",
      "execution_count": null,
      "metadata": {
        "id": "fHRT6hQPk-0N"
      },
      "outputs": [],
      "source": [
        "df.RestingBP.describe()"
      ]
    },
    {
      "cell_type": "code",
      "execution_count": null,
      "metadata": {
        "id": "f2osdeSxk-0Q"
      },
      "outputs": [],
      "source": [
        "plt.hist(df.RestingBP)\n",
        "plt.title('RestingBP')"
      ]
    },
    {
      "cell_type": "code",
      "execution_count": null,
      "metadata": {
        "id": "bpwCTUfsk-0Q"
      },
      "outputs": [],
      "source": [
        "sns.boxplot(df.RestingBP, color = 'red')\n",
        "plt.xlabel('RestingBP')"
      ]
    },
    {
      "cell_type": "code",
      "execution_count": null,
      "metadata": {
        "id": "Mi2Jho2wk-0R"
      },
      "outputs": [],
      "source": [
        "IQR = df.RestingBP.quantile(0.75) - df.RestingBP.quantile(0.25)\n",
        "IQR"
      ]
    },
    {
      "cell_type": "code",
      "execution_count": null,
      "metadata": {
        "id": "LQ5wsaJdk-0R"
      },
      "outputs": [],
      "source": [
        "UL = df.RestingBP.quantile(0.75) + (1.5*IQR)\n",
        "UL"
      ]
    },
    {
      "cell_type": "code",
      "execution_count": null,
      "metadata": {
        "id": "CaXEpDuck-0S"
      },
      "outputs": [],
      "source": [
        "df.RestingBP[(df.RestingBP > UL)].value_counts().sum() #26"
      ]
    },
    {
      "cell_type": "code",
      "execution_count": null,
      "metadata": {
        "id": "CbJGPhu-k-0S"
      },
      "outputs": [],
      "source": [
        "df.RestingBP = np.where(df.RestingBP > UL, UL, df.RestingBP)"
      ]
    },
    {
      "cell_type": "code",
      "execution_count": null,
      "metadata": {
        "id": "XQQG4Hobk-0S"
      },
      "outputs": [],
      "source": [
        "LL = df.RestingBP.quantile(0.25) - (1.5*IQR)\n",
        "LL"
      ]
    },
    {
      "cell_type": "code",
      "execution_count": null,
      "metadata": {
        "id": "UaWD6D_vk-0T"
      },
      "outputs": [],
      "source": [
        "df.RestingBP[(df.RestingBP < LL)].value_counts().sum() #2"
      ]
    },
    {
      "cell_type": "code",
      "execution_count": null,
      "metadata": {
        "id": "ZIt_07Tgk-0T"
      },
      "outputs": [],
      "source": [
        "df.RestingBP = np.where(df.RestingBP < LL, LL, df.RestingBP)"
      ]
    },
    {
      "cell_type": "code",
      "execution_count": null,
      "metadata": {
        "id": "0a6b3tyOk-0T"
      },
      "outputs": [],
      "source": [
        "sns.distplot(df.RestingBP, color = 'red')\n",
        "plt.xlabel('RestingBP')"
      ]
    },
    {
      "cell_type": "code",
      "execution_count": null,
      "metadata": {
        "id": "9e0J2_Xok-0U"
      },
      "outputs": [],
      "source": [
        "sns.catplot(x=\"HeartDisease\",y=\"RestingBP\",kind=\"swarm\",data=df)\n",
        "plt.title('RestingBP v/s HeartDisease')"
      ]
    },
    {
      "cell_type": "code",
      "execution_count": null,
      "metadata": {
        "id": "PF-ZcoL6k-0U"
      },
      "outputs": [],
      "source": [
        "sns.boxplot(x=\"HeartDisease\",y=\"RestingBP\",data=df)\n",
        "plt.title('RestingBP v/s HeartDisease')"
      ]
    },
    {
      "cell_type": "code",
      "execution_count": null,
      "metadata": {
        "id": "6dVS0NyIk-0U"
      },
      "outputs": [],
      "source": [
        "mod = ols ('RestingBP~HeartDisease',data=df).fit()"
      ]
    },
    {
      "cell_type": "code",
      "execution_count": null,
      "metadata": {
        "id": "Ajh8Q1gPk-0V"
      },
      "outputs": [],
      "source": [
        "sm.stats.anova_lm(mod)"
      ]
    },
    {
      "cell_type": "markdown",
      "metadata": {
        "id": "a6_dCzxmk-0W"
      },
      "source": [
        "# 5th variable Cholesterol"
      ]
    },
    {
      "cell_type": "code",
      "execution_count": null,
      "metadata": {
        "id": "ef-myfprk-0W"
      },
      "outputs": [],
      "source": [
        "df.Cholesterol.isna().sum()"
      ]
    },
    {
      "cell_type": "code",
      "execution_count": null,
      "metadata": {
        "id": "eJaz5Lbjk-0X"
      },
      "outputs": [],
      "source": [
        "df.Cholesterol.value_counts()"
      ]
    },
    {
      "cell_type": "code",
      "execution_count": null,
      "metadata": {
        "id": "3p728JKVk-0Y"
      },
      "outputs": [],
      "source": [
        "df.Cholesterol.describe()"
      ]
    },
    {
      "cell_type": "code",
      "execution_count": null,
      "metadata": {
        "id": "fWAJuUp6k-0Y"
      },
      "outputs": [],
      "source": [
        "plt.hist(df.Cholesterol)\n",
        "plt.title('Cholesterol')"
      ]
    },
    {
      "cell_type": "code",
      "execution_count": null,
      "metadata": {
        "id": "NCk_6E7Wk-0Z"
      },
      "outputs": [],
      "source": [
        "sns.boxplot(df.Cholesterol, color = 'red')\n",
        "plt.xlabel('Cholesterol')"
      ]
    },
    {
      "cell_type": "code",
      "execution_count": null,
      "metadata": {
        "id": "VqJ9Bhtvk-0Z"
      },
      "outputs": [],
      "source": [
        "IQR1 = df.Cholesterol.quantile(0.75) - df.Cholesterol.quantile(0.25)\n",
        "IQR1"
      ]
    },
    {
      "cell_type": "code",
      "execution_count": null,
      "metadata": {
        "id": "Un5KEZWTk-0Z"
      },
      "outputs": [],
      "source": [
        "UL1 = df.Cholesterol.quantile(0.75) + (1.5*IQR1)\n",
        "UL1"
      ]
    },
    {
      "cell_type": "code",
      "execution_count": null,
      "metadata": {
        "id": "PRqlF8qfk-0a"
      },
      "outputs": [],
      "source": [
        "df.Cholesterol[(df.Cholesterol > UL1)].value_counts().sum() #11"
      ]
    },
    {
      "cell_type": "code",
      "execution_count": null,
      "metadata": {
        "id": "Ijt5RiVqk-0a"
      },
      "outputs": [],
      "source": [
        "df.Cholesterol = np.where(df.Cholesterol > UL1, UL1, df.Cholesterol)"
      ]
    },
    {
      "cell_type": "code",
      "execution_count": null,
      "metadata": {
        "id": "MwC1PT8Pk-0b"
      },
      "outputs": [],
      "source": [
        "LL1 = df.Cholesterol.quantile(0.25) - (1.5*IQR1)\n",
        "LL1"
      ]
    },
    {
      "cell_type": "code",
      "execution_count": null,
      "metadata": {
        "id": "oypnF-I2k-0b"
      },
      "outputs": [],
      "source": [
        "df.Cholesterol[(df.Cholesterol < LL1)].value_counts().sum() #172"
      ]
    },
    {
      "cell_type": "code",
      "execution_count": null,
      "metadata": {
        "id": "-ErLb3Apk-0b"
      },
      "outputs": [],
      "source": [
        "df.Cholesterol = np.where(df.Cholesterol < LL1, LL1, df.Cholesterol)"
      ]
    },
    {
      "cell_type": "code",
      "execution_count": null,
      "metadata": {
        "id": "IjUX8xHMk-0c"
      },
      "outputs": [],
      "source": [
        "sns.distplot(df.Cholesterol, color = 'red')\n",
        "plt.xlabel('Cholesterol')"
      ]
    },
    {
      "cell_type": "code",
      "execution_count": null,
      "metadata": {
        "id": "NfRGMpHqk-0c"
      },
      "outputs": [],
      "source": [
        "sns.catplot(x=\"HeartDisease\",y=\"Cholesterol\",kind=\"swarm\",data=df)\n",
        "plt.title('Cholesterol v/s HeartDisease')"
      ]
    },
    {
      "cell_type": "code",
      "execution_count": null,
      "metadata": {
        "id": "snBFYC5_k-0c"
      },
      "outputs": [],
      "source": [
        "sns.boxplot(x=\"HeartDisease\",y=\"Cholesterol\",data=df)\n",
        "plt.title('Cholesterol v/s HeartDisease')"
      ]
    },
    {
      "cell_type": "code",
      "execution_count": null,
      "metadata": {
        "id": "xKf2J0oRk-0d"
      },
      "outputs": [],
      "source": [
        "H1 = df[df.HeartDisease == 0]\n",
        "H2 = df[df.HeartDisease == 1]\n",
        "\n",
        "scipy.stats.ttest_ind(H1.Cholesterol, H2.Cholesterol)"
      ]
    },
    {
      "cell_type": "markdown",
      "metadata": {
        "id": "O8im897pk-0d"
      },
      "source": [
        "# 6th variable FastingBS"
      ]
    },
    {
      "cell_type": "code",
      "execution_count": null,
      "metadata": {
        "id": "vAWp2ZgZk-0e"
      },
      "outputs": [],
      "source": [
        "df.FastingBS.isna().sum()"
      ]
    },
    {
      "cell_type": "code",
      "execution_count": null,
      "metadata": {
        "id": "r_SmJ5Jlk-0e"
      },
      "outputs": [],
      "source": [
        "df.FastingBS.value_counts()"
      ]
    },
    {
      "cell_type": "code",
      "execution_count": null,
      "metadata": {
        "id": "Cu1s0lvTk-0e"
      },
      "outputs": [],
      "source": [
        "sns.countplot(df.FastingBS)\n",
        "plt.title('Countplot of FastingBS')"
      ]
    },
    {
      "cell_type": "code",
      "execution_count": null,
      "metadata": {
        "id": "5sinNomek-0f"
      },
      "outputs": [],
      "source": [
        "sns.countplot(df.FastingBS,hue=df.HeartDisease)\n",
        "plt.title(' FastingBS vs HeartDisease')"
      ]
    },
    {
      "cell_type": "code",
      "execution_count": null,
      "metadata": {
        "id": "3w1JXY5Ik-0g"
      },
      "outputs": [],
      "source": [
        "ct3=pd.crosstab(df.FastingBS,df.HeartDisease)"
      ]
    },
    {
      "cell_type": "code",
      "execution_count": null,
      "metadata": {
        "id": "d5y3pGirk-0g"
      },
      "outputs": [],
      "source": [
        "ct3"
      ]
    },
    {
      "cell_type": "code",
      "execution_count": null,
      "metadata": {
        "id": "ylOHDwBGk-0g"
      },
      "outputs": [],
      "source": [
        "c3=chi2_contingency(ct3,correction=False)"
      ]
    },
    {
      "cell_type": "code",
      "execution_count": null,
      "metadata": {
        "id": "VUFm1C8Nk-0h"
      },
      "outputs": [],
      "source": [
        "c3"
      ]
    },
    {
      "cell_type": "markdown",
      "metadata": {
        "id": "7sJpdYfUk-0h"
      },
      "source": [
        "###"
      ]
    },
    {
      "cell_type": "markdown",
      "metadata": {
        "id": "BfF20I53k-0i"
      },
      "source": [
        "# 7th variable RestingECG"
      ]
    },
    {
      "cell_type": "code",
      "execution_count": null,
      "metadata": {
        "id": "AbczVcbQk-0i"
      },
      "outputs": [],
      "source": [
        "df.RestingECG.isna().sum()"
      ]
    },
    {
      "cell_type": "code",
      "execution_count": null,
      "metadata": {
        "id": "aMv_Du0Ik-0i"
      },
      "outputs": [],
      "source": [
        "df.RestingECG.value_counts()"
      ]
    },
    {
      "cell_type": "code",
      "execution_count": null,
      "metadata": {
        "id": "TxbkH-3bk-0j"
      },
      "outputs": [],
      "source": [
        "sns.countplot(df.RestingECG)\n",
        "plt.title('Countplot of RestingECG')"
      ]
    },
    {
      "cell_type": "code",
      "execution_count": null,
      "metadata": {
        "id": "RWqrt8sjk-0k"
      },
      "outputs": [],
      "source": [
        "sns.countplot(df.RestingECG,hue=df.HeartDisease)\n",
        "plt.title(' RestingECG vs HeartDisease')"
      ]
    },
    {
      "cell_type": "code",
      "execution_count": null,
      "metadata": {
        "id": "t6jbL73Ik-0k"
      },
      "outputs": [],
      "source": [
        "ct4=pd.crosstab(df.RestingECG,df.HeartDisease)"
      ]
    },
    {
      "cell_type": "code",
      "execution_count": null,
      "metadata": {
        "id": "vrsez3TDk-0l"
      },
      "outputs": [],
      "source": [
        "ct4"
      ]
    },
    {
      "cell_type": "code",
      "execution_count": null,
      "metadata": {
        "id": "fUbUVdP0k-0l"
      },
      "outputs": [],
      "source": [
        "c4=chi2_contingency(ct4,correction=False)"
      ]
    },
    {
      "cell_type": "code",
      "execution_count": null,
      "metadata": {
        "id": "mujVmNfpk-0m"
      },
      "outputs": [],
      "source": [
        "c4"
      ]
    },
    {
      "cell_type": "markdown",
      "metadata": {
        "id": "j2VZSbFpk-0m"
      },
      "source": [
        "# 8th variable MaxHR"
      ]
    },
    {
      "cell_type": "code",
      "execution_count": null,
      "metadata": {
        "id": "cOFpip9Sk-0m"
      },
      "outputs": [],
      "source": [
        "df.MaxHR.isna().sum()"
      ]
    },
    {
      "cell_type": "code",
      "execution_count": null,
      "metadata": {
        "id": "VoJPOzwVk-0n"
      },
      "outputs": [],
      "source": [
        "df.MaxHR.value_counts()"
      ]
    },
    {
      "cell_type": "code",
      "execution_count": null,
      "metadata": {
        "id": "PIGqqBYck-0n"
      },
      "outputs": [],
      "source": [
        "df.MaxHR.describe()"
      ]
    },
    {
      "cell_type": "code",
      "execution_count": null,
      "metadata": {
        "id": "35edCosZk-0n"
      },
      "outputs": [],
      "source": [
        "plt.hist(df.MaxHR)\n",
        "plt.title('MaxHR')"
      ]
    },
    {
      "cell_type": "code",
      "execution_count": null,
      "metadata": {
        "id": "0ZDAbhU3k-0o"
      },
      "outputs": [],
      "source": [
        "sns.boxplot(df.MaxHR, color = 'red')\n",
        "plt.xlabel('MaxHR')"
      ]
    },
    {
      "cell_type": "code",
      "execution_count": null,
      "metadata": {
        "id": "esZcK-ntk-0o"
      },
      "outputs": [],
      "source": [
        "IQR2 = df.MaxHR.quantile(0.75) - df.MaxHR.quantile(0.25)\n",
        "IQR2"
      ]
    },
    {
      "cell_type": "code",
      "execution_count": null,
      "metadata": {
        "id": "vTVp07g1k-0p"
      },
      "outputs": [],
      "source": [
        "LL2 = df.MaxHR.quantile(0.25) - (1.5*IQR2)\n",
        "LL2"
      ]
    },
    {
      "cell_type": "code",
      "execution_count": null,
      "metadata": {
        "id": "pU0pUH-9k-0p"
      },
      "outputs": [],
      "source": [
        "df.MaxHR[(df.MaxHR < LL2)].value_counts().sum() #2"
      ]
    },
    {
      "cell_type": "code",
      "execution_count": null,
      "metadata": {
        "id": "lHlh7KIik-0p"
      },
      "outputs": [],
      "source": [
        "df.MaxHR = np.where(df.MaxHR < LL2, LL2, df.MaxHR)"
      ]
    },
    {
      "cell_type": "code",
      "execution_count": null,
      "metadata": {
        "id": "3WSAbMrOk-0q"
      },
      "outputs": [],
      "source": [
        "sns.distplot(df.MaxHR, color = 'red')\n",
        "plt.xlabel('MaxHR')"
      ]
    },
    {
      "cell_type": "code",
      "execution_count": null,
      "metadata": {
        "id": "C7UlTiUzk-0q"
      },
      "outputs": [],
      "source": [
        "sns.catplot(x=\"HeartDisease\",y=\"MaxHR\",kind=\"swarm\",data=df)\n",
        "plt.title('MaxHR v/s HeartDisease')"
      ]
    },
    {
      "cell_type": "code",
      "execution_count": null,
      "metadata": {
        "id": "i9qY5K9rk-0q"
      },
      "outputs": [],
      "source": [
        "sns.boxplot(x=\"HeartDisease\",y=\"MaxHR\",data=df)\n",
        "plt.title('MaxHR v/s HeartDisease')"
      ]
    },
    {
      "cell_type": "code",
      "execution_count": null,
      "metadata": {
        "id": "P31dT5A3k-0r"
      },
      "outputs": [],
      "source": [
        "H1 = df[df.HeartDisease == 0]\n",
        "H2 = df[df.HeartDisease == 1]\n",
        "\n",
        "scipy.stats.ttest_ind(H1.MaxHR, H2.MaxHR)"
      ]
    },
    {
      "cell_type": "markdown",
      "metadata": {
        "id": "BXMXw8R_k-0r"
      },
      "source": [
        "# 9th variable ExerciseAngina"
      ]
    },
    {
      "cell_type": "code",
      "execution_count": null,
      "metadata": {
        "id": "5mfXsL2Dk-0r"
      },
      "outputs": [],
      "source": [
        "df.ExerciseAngina.isna().sum()"
      ]
    },
    {
      "cell_type": "code",
      "execution_count": null,
      "metadata": {
        "id": "m-ruBrz9k-0s"
      },
      "outputs": [],
      "source": [
        "df.ExerciseAngina.value_counts()"
      ]
    },
    {
      "cell_type": "code",
      "execution_count": null,
      "metadata": {
        "id": "qWwem0e-k-0s"
      },
      "outputs": [],
      "source": [
        "sns.countplot(df.ExerciseAngina)\n",
        "plt.title('Countplot of ExerciseAngina')"
      ]
    },
    {
      "cell_type": "code",
      "execution_count": null,
      "metadata": {
        "id": "nk0kjxsDk-0t"
      },
      "outputs": [],
      "source": [
        "sns.countplot(df.ExerciseAngina,hue=df.HeartDisease)\n",
        "plt.title(' ExerciseAngina vs HeartDisease')"
      ]
    },
    {
      "cell_type": "code",
      "execution_count": null,
      "metadata": {
        "id": "I2dQ2L_pk-0t"
      },
      "outputs": [],
      "source": [
        "ct5=pd.crosstab(df.ExerciseAngina,df.HeartDisease)"
      ]
    },
    {
      "cell_type": "code",
      "execution_count": null,
      "metadata": {
        "id": "68lOT9BHk-0t"
      },
      "outputs": [],
      "source": [
        "ct5"
      ]
    },
    {
      "cell_type": "code",
      "execution_count": null,
      "metadata": {
        "id": "eUAqAyIqk-0u"
      },
      "outputs": [],
      "source": [
        "c5=chi2_contingency(ct5,correction=False)"
      ]
    },
    {
      "cell_type": "code",
      "execution_count": null,
      "metadata": {
        "id": "I6tHPn_vk-0u"
      },
      "outputs": [],
      "source": [
        "c5"
      ]
    },
    {
      "cell_type": "markdown",
      "metadata": {
        "id": "hYIuBkxNk-0u"
      },
      "source": [
        "# 10th variable Oldpeak"
      ]
    },
    {
      "cell_type": "code",
      "execution_count": null,
      "metadata": {
        "id": "34f4sIOTk-0u"
      },
      "outputs": [],
      "source": [
        "df.Oldpeak.isna().sum()"
      ]
    },
    {
      "cell_type": "code",
      "execution_count": null,
      "metadata": {
        "id": "7xYD_wQNk-0v"
      },
      "outputs": [],
      "source": [
        "df.Oldpeak.value_counts()"
      ]
    },
    {
      "cell_type": "code",
      "execution_count": null,
      "metadata": {
        "id": "Y6qCqUhJk-0v"
      },
      "outputs": [],
      "source": [
        "df.Oldpeak.describe()"
      ]
    },
    {
      "cell_type": "code",
      "execution_count": null,
      "metadata": {
        "id": "9oIol1R6k-0v"
      },
      "outputs": [],
      "source": [
        "plt.hist(df.Oldpeak)\n",
        "plt.title('Oldpeak')"
      ]
    },
    {
      "cell_type": "code",
      "execution_count": null,
      "metadata": {
        "id": "HyqE9eGWk-0w"
      },
      "outputs": [],
      "source": [
        "sns.boxplot(df.Oldpeak, color = 'red')\n",
        "plt.xlabel('Oldpeak')"
      ]
    },
    {
      "cell_type": "code",
      "execution_count": null,
      "metadata": {
        "id": "a_lweXVnk-0w"
      },
      "outputs": [],
      "source": [
        "IQR3 = df.Oldpeak.quantile(0.75) - df.Oldpeak.quantile(0.25)\n",
        "IQR3"
      ]
    },
    {
      "cell_type": "code",
      "execution_count": null,
      "metadata": {
        "id": "lmzofyhOk-0x"
      },
      "outputs": [],
      "source": [
        "UL3 = df.Oldpeak.quantile(0.75) + (1.5*IQR3)\n",
        "UL3"
      ]
    },
    {
      "cell_type": "code",
      "execution_count": null,
      "metadata": {
        "id": "ullcufu1k-0x"
      },
      "outputs": [],
      "source": [
        "df.Oldpeak[(df.Oldpeak > UL3)].value_counts().sum() #15"
      ]
    },
    {
      "cell_type": "code",
      "execution_count": null,
      "metadata": {
        "id": "LteeQM0Ak-0x"
      },
      "outputs": [],
      "source": [
        "df.Oldpeak = np.where(df.Oldpeak > UL3, UL3, df.Oldpeak)"
      ]
    },
    {
      "cell_type": "code",
      "execution_count": null,
      "metadata": {
        "id": "9BMTZUNDk-0y"
      },
      "outputs": [],
      "source": [
        "LL3 = df.Oldpeak.quantile(0.25) - (1.5*IQR3)\n",
        "LL3"
      ]
    },
    {
      "cell_type": "code",
      "execution_count": null,
      "metadata": {
        "id": "_cpSLLGnk-0y"
      },
      "outputs": [],
      "source": [
        "df.Oldpeak[(df.Oldpeak < LL3)].value_counts().sum() #1"
      ]
    },
    {
      "cell_type": "code",
      "execution_count": null,
      "metadata": {
        "id": "as8neBM-k-0y"
      },
      "outputs": [],
      "source": [
        "df.Oldpeak = np.where(df.Oldpeak < LL3, LL3, df.Oldpeak)"
      ]
    },
    {
      "cell_type": "code",
      "execution_count": null,
      "metadata": {
        "id": "f82UmETAk-0z"
      },
      "outputs": [],
      "source": [
        "sns.distplot(df.Oldpeak, color = 'red')\n",
        "plt.xlabel('Oldpeak')"
      ]
    },
    {
      "cell_type": "code",
      "execution_count": null,
      "metadata": {
        "id": "xl63tP4ak-0z"
      },
      "outputs": [],
      "source": [
        "sns.catplot(x=\"HeartDisease\",y=\"Oldpeak\",kind=\"swarm\",data=df)\n",
        "plt.title('Oldpeak v/s HeartDisease')"
      ]
    },
    {
      "cell_type": "code",
      "execution_count": null,
      "metadata": {
        "id": "ck61pfI8k-0z"
      },
      "outputs": [],
      "source": [
        "sns.boxplot(x=\"HeartDisease\",y=\"Oldpeak\",data=df)\n",
        "plt.title('Oldpeak v/s HeartDisease')"
      ]
    },
    {
      "cell_type": "code",
      "execution_count": null,
      "metadata": {
        "id": "jReLSMwIk-00"
      },
      "outputs": [],
      "source": [
        "H1 = df[df.HeartDisease == 0]\n",
        "H2 = df[df.HeartDisease == 1]\n",
        "\n",
        "scipy.stats.ttest_ind(H1.Oldpeak, H2.Oldpeak)"
      ]
    },
    {
      "cell_type": "markdown",
      "metadata": {
        "id": "dpEivDTnk-00"
      },
      "source": [
        "# 11th variable ST_Slope"
      ]
    },
    {
      "cell_type": "code",
      "execution_count": null,
      "metadata": {
        "id": "2dRFym4Ik-00"
      },
      "outputs": [],
      "source": [
        "df.ST_Slope.isna().sum()"
      ]
    },
    {
      "cell_type": "code",
      "execution_count": null,
      "metadata": {
        "id": "AhREQDAAk-01"
      },
      "outputs": [],
      "source": [
        "df.ST_Slope.value_counts()"
      ]
    },
    {
      "cell_type": "code",
      "execution_count": null,
      "metadata": {
        "id": "Pa8LYc1ek-01"
      },
      "outputs": [],
      "source": [
        "sns.countplot(df.ST_Slope)\n",
        "plt.title('Countplot of ST_Slope')"
      ]
    },
    {
      "cell_type": "code",
      "execution_count": null,
      "metadata": {
        "id": "TYnSF1Mfk-01"
      },
      "outputs": [],
      "source": [
        "sns.countplot(df.ST_Slope,hue=df.HeartDisease)\n",
        "plt.title(' ST_Slope vs HeartDisease')"
      ]
    },
    {
      "cell_type": "code",
      "execution_count": null,
      "metadata": {
        "id": "EPUu_d8-k-02"
      },
      "outputs": [],
      "source": [
        "ct6=pd.crosstab(df.ST_Slope,df.HeartDisease)"
      ]
    },
    {
      "cell_type": "code",
      "execution_count": null,
      "metadata": {
        "id": "ibICNhBsk-02"
      },
      "outputs": [],
      "source": [
        "ct6"
      ]
    },
    {
      "cell_type": "code",
      "execution_count": null,
      "metadata": {
        "id": "MYfR80bpk-02"
      },
      "outputs": [],
      "source": [
        "c6=chi2_contingency(ct6,correction=False)"
      ]
    },
    {
      "cell_type": "code",
      "execution_count": null,
      "metadata": {
        "id": "QuNHDu_rk-03"
      },
      "outputs": [],
      "source": [
        "c6"
      ]
    },
    {
      "cell_type": "markdown",
      "metadata": {
        "id": "NJzaIx0Sk-03"
      },
      "source": [
        "# dummies"
      ]
    },
    {
      "cell_type": "code",
      "execution_count": null,
      "metadata": {
        "id": "H5JpXH1_k-03"
      },
      "outputs": [],
      "source": [
        "Catg_vars = ['Sex','ChestPainType','FastingBS','RestingECG','ExerciseAngina','ST_Slope']\n",
        "for i in Catg_vars:\n",
        "    Catg_list = 'var'+'_'+i\n",
        "    Catg_list = pd.get_dummies(df[i], drop_first=True, prefix = i)\n",
        "    df1 = df.join(Catg_list)\n",
        "    df = df1\n",
        "    df1.info()"
      ]
    },
    {
      "cell_type": "code",
      "execution_count": null,
      "metadata": {
        "id": "Wcb72vnjk-04"
      },
      "outputs": [],
      "source": [
        "Catg_vars = ['Sex','ChestPainType','FastingBS','RestingECG','ExerciseAngina','ST_Slope']\n",
        "df_vars = df.columns.values.tolist()\n",
        "to_keep = [i for i in df_vars if i not in Catg_vars]\n",
        "df_final1 = df[to_keep]\n",
        "df_final1.columns.values\n",
        "df_final1.info()"
      ]
    },
    {
      "cell_type": "code",
      "execution_count": null,
      "metadata": {
        "id": "Svfa_WJuk-04"
      },
      "outputs": [],
      "source": [
        "df_final1.to_csv(\"C:/Users/Admin/Desktop/anjali/heart_disease/df_final1.csv\")"
      ]
    },
    {
      "cell_type": "markdown",
      "metadata": {
        "id": "23uQGKcCk-04"
      },
      "source": [
        "# Smote"
      ]
    },
    {
      "cell_type": "code",
      "execution_count": null,
      "metadata": {
        "id": "ifNp1KZFk-05"
      },
      "outputs": [],
      "source": [
        "X = df_final1.loc[:, df_final1.columns != 'HeartDisease']\n",
        "y = df_final1.loc[:, df_final1.columns == 'HeartDisease']"
      ]
    },
    {
      "cell_type": "code",
      "execution_count": null,
      "metadata": {
        "id": "BxNWcyiKk-05"
      },
      "outputs": [],
      "source": [
        "X"
      ]
    },
    {
      "cell_type": "code",
      "execution_count": null,
      "metadata": {
        "id": "cojBkx13k-05"
      },
      "outputs": [],
      "source": [
        "y"
      ]
    },
    {
      "cell_type": "code",
      "execution_count": null,
      "metadata": {
        "id": "a3UBKTjAk-06"
      },
      "outputs": [],
      "source": [
        "y.value_counts()"
      ]
    },
    {
      "cell_type": "code",
      "execution_count": null,
      "metadata": {
        "id": "zYMmQjsWk-06"
      },
      "outputs": [],
      "source": [
        "from sklearn.linear_model import LogisticRegression\n",
        "from sklearn.model_selection import train_test_split"
      ]
    },
    {
      "cell_type": "code",
      "execution_count": null,
      "metadata": {
        "id": "kj_ILAnuk-07"
      },
      "outputs": [],
      "source": [
        "X_train, X_test, y_train, y_test = train_test_split(X, y, test_size=0.2, random_state=0)"
      ]
    },
    {
      "cell_type": "code",
      "execution_count": null,
      "metadata": {
        "id": "AUbMeOQek-07"
      },
      "outputs": [],
      "source": [
        "train = X_train.join(y_train)"
      ]
    },
    {
      "cell_type": "code",
      "execution_count": null,
      "metadata": {
        "id": "UzKtVw00k-07"
      },
      "outputs": [],
      "source": [
        "train.info()"
      ]
    },
    {
      "cell_type": "code",
      "execution_count": null,
      "metadata": {
        "id": "CF8Atn1kk-08"
      },
      "outputs": [],
      "source": [
        "no_heart_dis = train[train.HeartDisease == 0]\n",
        "len(no_heart_dis) #333\n"
      ]
    },
    {
      "cell_type": "code",
      "execution_count": null,
      "metadata": {
        "id": "sqcE0ZyDk-08"
      },
      "outputs": [],
      "source": [
        "yes_heart_dis = train[train.HeartDisease == 1]\n",
        "len(yes_heart_dis) #401"
      ]
    },
    {
      "cell_type": "markdown",
      "metadata": {
        "id": "BbJehIs4k-08"
      },
      "source": [
        "# no count is less to be increased"
      ]
    },
    {
      "cell_type": "code",
      "execution_count": null,
      "metadata": {
        "id": "fZ8uguYfk-09"
      },
      "outputs": [],
      "source": [
        "from sklearn.utils import resample\n",
        "no_heart_dis_os = resample(no_heart_dis,\n",
        "                          replace = True,\n",
        "                          n_samples = len(yes_heart_dis),\n",
        "                          random_state = 14) #Random state is for reproducing same result\n",
        "\n",
        "train_os = pd.concat([yes_heart_dis, no_heart_dis_os])\n",
        "train_os.HeartDisease.value_counts()"
      ]
    },
    {
      "cell_type": "code",
      "execution_count": null,
      "metadata": {
        "id": "MSrpYTjOk-09"
      },
      "outputs": [],
      "source": [
        "X_train_os = train_os.loc[:, train_os.columns != 'HeartDisease']\n",
        "y_train_os = train_os.loc[:, train_os.columns == 'HeartDisease']"
      ]
    },
    {
      "cell_type": "code",
      "execution_count": null,
      "metadata": {
        "id": "dkHnC1Bwk-09"
      },
      "outputs": [],
      "source": [
        "X_train_os.to_csv(\"C:/Users/Admin/Desktop/anjali/heart_disease/X_train_os.csv\")\n",
        "y_train_os.to_csv(\"C:/Users/Admin/Desktop/anjali/heart_disease/y_train_os.csv\")"
      ]
    },
    {
      "cell_type": "markdown",
      "metadata": {
        "id": "PCJq4dc3k-09"
      },
      "source": [
        "# Recurrsive Feature Elimination"
      ]
    },
    {
      "cell_type": "code",
      "execution_count": null,
      "metadata": {
        "id": "83RJQWHNk-0-"
      },
      "outputs": [],
      "source": [
        "from sklearn import datasets\n",
        "from sklearn.feature_selection import RFE\n",
        "from sklearn.linear_model import LogisticRegression"
      ]
    },
    {
      "cell_type": "code",
      "execution_count": null,
      "metadata": {
        "id": "DKuX7qLnk-0-"
      },
      "outputs": [],
      "source": [
        "logreg = LogisticRegression(max_iter = 100000000)"
      ]
    },
    {
      "cell_type": "code",
      "execution_count": null,
      "metadata": {
        "id": "n6qMZ_rMk-0-"
      },
      "outputs": [],
      "source": [
        "rfe = RFE(logreg, n_features_to_select=7)\n",
        "rfe = rfe.fit(X_train_os, y_train_os.values.ravel())"
      ]
    },
    {
      "cell_type": "code",
      "execution_count": null,
      "metadata": {
        "id": "XBMvLQnrk-0_"
      },
      "outputs": [],
      "source": [
        "rfe.n_features_to_select\n",
        "X_train_os.columns[rfe.get_support()]"
      ]
    },
    {
      "cell_type": "code",
      "execution_count": null,
      "metadata": {
        "id": "p2kCHP5Rk-0_"
      },
      "outputs": [],
      "source": [
        "cols = X_train_os.columns[rfe.get_support()]\n",
        "cols.to_list()"
      ]
    },
    {
      "cell_type": "markdown",
      "metadata": {
        "id": "9Rsti0x-k-0_"
      },
      "source": [
        "# sm model to see p_values"
      ]
    },
    {
      "cell_type": "code",
      "execution_count": null,
      "metadata": {
        "id": "ErIbYyWIk-1A"
      },
      "outputs": [],
      "source": [
        "x1 = X_train_os[cols]\n",
        "x1.info()"
      ]
    },
    {
      "cell_type": "code",
      "execution_count": null,
      "metadata": {
        "id": "QdD-I2m0k-1A"
      },
      "outputs": [],
      "source": [
        "y_train_os.HeartDisease.value_counts()\n"
      ]
    },
    {
      "cell_type": "code",
      "execution_count": null,
      "metadata": {
        "id": "9xYiBJ8Vk-1B"
      },
      "outputs": [],
      "source": [
        "y1 = y_train_os.HeartDisease\n",
        "y1"
      ]
    },
    {
      "cell_type": "code",
      "execution_count": null,
      "metadata": {
        "id": "voEi3B43k-1B"
      },
      "outputs": [],
      "source": [
        "import statsmodels.api as sm"
      ]
    },
    {
      "cell_type": "code",
      "execution_count": null,
      "metadata": {
        "id": "oAlsxIVOk-1C"
      },
      "outputs": [],
      "source": [
        "logit_model = sm.Logit(y1,x1)\n",
        "result = logit_model.fit()\n",
        "print(result.summary2())"
      ]
    },
    {
      "cell_type": "markdown",
      "metadata": {
        "id": "OqmYc0B-k-1C"
      },
      "source": [
        "# sklearn model"
      ]
    },
    {
      "cell_type": "code",
      "execution_count": null,
      "metadata": {
        "id": "JqU0YkTSk-1D"
      },
      "outputs": [],
      "source": [
        "from sklearn.linear_model import LogisticRegression\n",
        "from sklearn import metrics"
      ]
    },
    {
      "cell_type": "code",
      "execution_count": null,
      "metadata": {
        "id": "LgH36D8Uk-1D"
      },
      "outputs": [],
      "source": [
        "logreg = LogisticRegression(solver = 'sag')\n",
        "logreg.fit(x1, y1)"
      ]
    },
    {
      "cell_type": "markdown",
      "metadata": {
        "id": "eTBaAhn4k-1E"
      },
      "source": [
        "# fit the model on test data"
      ]
    },
    {
      "cell_type": "code",
      "execution_count": null,
      "metadata": {
        "id": "zsqgifxek-1E"
      },
      "outputs": [],
      "source": [
        "X_test7 = X_test[cols]\n",
        "X_test7.info()"
      ]
    },
    {
      "cell_type": "code",
      "execution_count": null,
      "metadata": {
        "id": "t3YAzubMk-1F"
      },
      "outputs": [],
      "source": [
        "y_pred = logreg.predict(X_test7)"
      ]
    },
    {
      "cell_type": "code",
      "execution_count": null,
      "metadata": {
        "id": "SwoODFL6k-1F"
      },
      "outputs": [],
      "source": [
        "print('Accuracy of logistic regression classifier on test set: {:.2f}'.format(logreg.score(X_test7, y_test)))"
      ]
    },
    {
      "cell_type": "markdown",
      "metadata": {
        "id": "kT3D6G0Qk-1G"
      },
      "source": [
        "# accuracy 0.83"
      ]
    },
    {
      "cell_type": "code",
      "execution_count": null,
      "metadata": {
        "id": "XSFWTAbTk-1G"
      },
      "outputs": [],
      "source": [
        "from sklearn.metrics import confusion_matrix"
      ]
    },
    {
      "cell_type": "code",
      "execution_count": null,
      "metadata": {
        "id": "E6vZJIn2k-1H"
      },
      "outputs": [],
      "source": [
        "confusion_matrix = confusion_matrix(y_test, y_pred)\n",
        "print(confusion_matrix)"
      ]
    },
    {
      "cell_type": "code",
      "execution_count": null,
      "metadata": {
        "id": "zS9EtU0ck-1H"
      },
      "outputs": [],
      "source": [
        "from sklearn.metrics import classification_report"
      ]
    },
    {
      "cell_type": "code",
      "execution_count": null,
      "metadata": {
        "id": "0KmzOkAok-1I"
      },
      "outputs": [],
      "source": [
        "print(classification_report(y_test, y_pred))"
      ]
    },
    {
      "cell_type": "markdown",
      "metadata": {
        "id": "Jh_8SdpCk-1I"
      },
      "source": [
        "# ROC curve"
      ]
    },
    {
      "cell_type": "code",
      "execution_count": null,
      "metadata": {
        "id": "7dTvaxXOk-1I"
      },
      "outputs": [],
      "source": [
        "from sklearn.metrics import roc_auc_score\n",
        "from sklearn.metrics import roc_curve"
      ]
    },
    {
      "cell_type": "code",
      "execution_count": null,
      "metadata": {
        "id": "H-lCpaWik-1J"
      },
      "outputs": [],
      "source": [
        "logit_roc_auc = roc_auc_score(y_test, logreg.predict(X_test7))\n",
        "fpr, tpr, thresholds = roc_curve(y_test, logreg.predict_proba(X_test7)[:,1])\n",
        "plt.figure()\n",
        "plt.plot(fpr, tpr, label='Logistic Regression (area = %0.2f)' % logit_roc_auc)\n",
        "plt.plot([0, 1], [0, 1],'r--')\n",
        "plt.xlim([0.0, 1.0])\n",
        "plt.ylim([0.0, 1.05])\n",
        "plt.xlabel('False Positive Rate')\n",
        "plt.ylabel('True Positive Rate')\n",
        "plt.title('Receiver operating characteristic')\n",
        "plt.legend(loc=\"lower right\")\n",
        "plt.savefig('Log_ROC')\n",
        "plt.show()"
      ]
    },
    {
      "cell_type": "markdown",
      "metadata": {
        "id": "ySkIX-Gnk-1J"
      },
      "source": [
        "# Decision tree"
      ]
    },
    {
      "cell_type": "code",
      "execution_count": null,
      "metadata": {
        "id": "0GSHUCUEk-1K"
      },
      "outputs": [],
      "source": [
        "from sklearn.tree import DecisionTreeClassifier"
      ]
    },
    {
      "cell_type": "code",
      "execution_count": null,
      "metadata": {
        "id": "bw6CWwOQk-1K"
      },
      "outputs": [],
      "source": [
        "tree = DecisionTreeClassifier(random_state = 14)"
      ]
    },
    {
      "cell_type": "code",
      "execution_count": null,
      "metadata": {
        "id": "UtvGFbYIk-1L"
      },
      "outputs": [],
      "source": [
        "tree.fit(X_train,y_train)"
      ]
    },
    {
      "cell_type": "code",
      "execution_count": null,
      "metadata": {
        "id": "dbDggf1hk-1L"
      },
      "outputs": [],
      "source": [
        "y_train_pred = tree.predict(X_train)\n",
        "y_test_pred = tree.predict(X_test)"
      ]
    },
    {
      "cell_type": "code",
      "execution_count": null,
      "metadata": {
        "id": "pdgNJsLuk-1M"
      },
      "outputs": [],
      "source": [
        "from sklearn.metrics import accuracy_score"
      ]
    },
    {
      "cell_type": "code",
      "execution_count": null,
      "metadata": {
        "id": "IYTAi5VKk-1M"
      },
      "outputs": [],
      "source": [
        "print(round(accuracy_score(y_train,y_train_pred), 2))"
      ]
    },
    {
      "cell_type": "code",
      "execution_count": null,
      "metadata": {
        "id": "7ytvgLuGk-1N"
      },
      "outputs": [],
      "source": [
        "print(round(accuracy_score(y_test,y_test_pred), 2))"
      ]
    },
    {
      "cell_type": "code",
      "execution_count": null,
      "metadata": {
        "id": "QLg9_xHQk-1O"
      },
      "outputs": [],
      "source": [
        "path = tree.cost_complexity_pruning_path(X_train, y_train)\n",
        "alphas = path['ccp_alphas']\n",
        "alphas"
      ]
    },
    {
      "cell_type": "code",
      "execution_count": null,
      "metadata": {
        "id": "wx3fTPJ9k-1O"
      },
      "outputs": [],
      "source": [
        "accuracy_train, accuracy_test = [],[]"
      ]
    },
    {
      "cell_type": "code",
      "execution_count": null,
      "metadata": {
        "id": "3PfqcLtMk-1P"
      },
      "outputs": [],
      "source": [
        "for i in alphas:\n",
        "    tree = DecisionTreeClassifier(ccp_alpha=i)\n",
        "\n",
        "    tree.fit(X_train, y_train)\n",
        "    y_train_pred = tree.predict(X_train)\n",
        "    y_test_pred = tree.predict(X_test)\n",
        "\n",
        "    accuracy_train.append(accuracy_score(y_train, y_train_pred))\n",
        "    accuracy_test.append(accuracy_score(y_test,y_test_pred))\n"
      ]
    },
    {
      "cell_type": "code",
      "execution_count": null,
      "metadata": {
        "id": "S97hRNeZk-1P"
      },
      "outputs": [],
      "source": [
        "accuracy_train"
      ]
    },
    {
      "cell_type": "code",
      "execution_count": null,
      "metadata": {
        "id": "GWYMGo-yk-1Q"
      },
      "outputs": [],
      "source": [
        "accuracy_test"
      ]
    },
    {
      "cell_type": "code",
      "execution_count": null,
      "metadata": {
        "id": "6WVCMWGSk-1Q"
      },
      "outputs": [],
      "source": [
        "sns.set()\n",
        "plt.figure(figsize = (14,7))\n",
        "sns.lineplot(y =accuracy_train, x = alphas, label = 'TrainAccuracy')\n",
        "sns.lineplot(y =accuracy_test, x = alphas, label = 'TestAccuracy')\n",
        "plt.xticks(ticks=np.arange(0.00,0.25,0.01))\n",
        "plt.xlabel('alphas')\n",
        "plt.ylabel('accuracy')\n",
        "plt.show()"
      ]
    },
    {
      "cell_type": "markdown",
      "metadata": {
        "id": "nd7CJhUck-1R"
      },
      "source": [
        "# ccp=0.004"
      ]
    },
    {
      "cell_type": "code",
      "execution_count": null,
      "metadata": {
        "id": "77vrC7k4k-1S"
      },
      "outputs": [],
      "source": [
        "tree = DecisionTreeClassifier(ccp_alpha=0.004, random_state = 14)\n",
        "tree.fit(X_train,y_train)\n",
        "y_train_pred = tree.predict(X_train)\n",
        "y_test_pred = tree.predict(X_test)"
      ]
    },
    {
      "cell_type": "code",
      "execution_count": null,
      "metadata": {
        "id": "yQkMIifik-1S"
      },
      "outputs": [],
      "source": [
        "from sklearn.metrics import accuracy_score\n"
      ]
    },
    {
      "cell_type": "code",
      "execution_count": null,
      "metadata": {
        "id": "lv-7VGerk-1T"
      },
      "outputs": [],
      "source": [
        "print(round(accuracy_score(y_train,y_train_pred), 2))"
      ]
    },
    {
      "cell_type": "code",
      "execution_count": null,
      "metadata": {
        "id": "91cqHNGtk-1T"
      },
      "outputs": [],
      "source": [
        "print(round(accuracy_score(y_test,y_test_pred), 2))"
      ]
    },
    {
      "cell_type": "code",
      "execution_count": null,
      "metadata": {
        "id": "EHHT_RCkk-1T"
      },
      "outputs": [],
      "source": [
        "from sklearn.metrics import confusion_matrix\n",
        "confusion_matrix = confusion_matrix(y_test, y_test_pred)\n",
        "print(confusion_matrix)"
      ]
    },
    {
      "cell_type": "code",
      "execution_count": null,
      "metadata": {
        "id": "2VwuYAgzk-1U"
      },
      "outputs": [],
      "source": [
        "print(classification_report(y_test, y_test_pred))"
      ]
    },
    {
      "cell_type": "code",
      "execution_count": null,
      "metadata": {
        "id": "HXpHM1GOk-1U"
      },
      "outputs": [],
      "source": [
        "from sklearn.metrics import roc_auc_score\n",
        "from sklearn.metrics import roc_curve\n",
        "from sklearn.metrics import roc_curve, auc, roc_auc_score"
      ]
    },
    {
      "cell_type": "code",
      "execution_count": null,
      "metadata": {
        "id": "taljKOcRk-1U"
      },
      "outputs": [],
      "source": [
        "predictedProbability_tree = tree.predict_proba(X_test)[:, 1]\n",
        "fpr,tpr, thresholds = metrics.roc_curve(y_test, predictedProbability_tree)"
      ]
    },
    {
      "cell_type": "code",
      "execution_count": null,
      "metadata": {
        "id": "7N5WAUyRk-1V"
      },
      "outputs": [],
      "source": [
        "fpr"
      ]
    },
    {
      "cell_type": "code",
      "execution_count": null,
      "metadata": {
        "id": "ceoFf4Lfk-1V"
      },
      "outputs": [],
      "source": [
        "tpr"
      ]
    },
    {
      "cell_type": "code",
      "execution_count": null,
      "metadata": {
        "id": "rMntXiS8k-1V"
      },
      "outputs": [],
      "source": [
        "thresholds"
      ]
    },
    {
      "cell_type": "code",
      "execution_count": null,
      "metadata": {
        "id": "o-wBlxp7k-1W"
      },
      "outputs": [],
      "source": [
        "df2 = pd.DataFrame(dict(fpr = fpr,tpr = tpr))\n"
      ]
    },
    {
      "cell_type": "code",
      "execution_count": null,
      "metadata": {
        "id": "a8E_eKRlk-1W"
      },
      "outputs": [],
      "source": [
        "auc = auc(fpr,tpr)\n",
        "auc"
      ]
    },
    {
      "cell_type": "code",
      "execution_count": null,
      "metadata": {
        "scrolled": true,
        "id": "fSqCLIPMk-1W"
      },
      "outputs": [],
      "source": [
        "plt.figure()\n",
        "lw = 2\n",
        "plt.plot(fpr, tpr, color = 'darkorange',\n",
        "         lw =lw, label = 'ROC Curve (area = %0.2f)' %auc)\n",
        "plt.plot([0,1],[0,1], color='navy', lw = lw, linestyle = '--')\n",
        "plt.xlim([0.0, 1.0])\n",
        "plt.ylim([0.0, 1.1])\n",
        "plt.xlabel('1-Specificity(False Positive Rate)')\n",
        "plt.ylabel('Sensitivity(True Positive Rate)')\n",
        "plt.title(\"Reciever Operating Characteristic Example\")\n",
        "plt.legend(loc = \"lower right\")\n",
        "plt.show()"
      ]
    },
    {
      "cell_type": "code",
      "execution_count": null,
      "metadata": {
        "id": "iXjLZ5ZSk-1X"
      },
      "outputs": [],
      "source": [
        "Catg_vars = ['Sex','ChestPainType','FastingBS','RestingECG','ExerciseAngina','ST_Slope']\n"
      ]
    },
    {
      "cell_type": "code",
      "execution_count": null,
      "metadata": {
        "id": "Bs3JhKBDk-1X"
      },
      "outputs": [],
      "source": [
        "dfp=df.drop(['Sex','ChestPainType','FastingBS','RestingECG','ExerciseAngina','ST_Slope'],axis=1)"
      ]
    },
    {
      "cell_type": "code",
      "execution_count": null,
      "metadata": {
        "id": "W1BYudJLk-1X"
      },
      "outputs": [],
      "source": [
        "dfp.info()"
      ]
    },
    {
      "cell_type": "code",
      "execution_count": null,
      "metadata": {
        "id": "BpOJYEh9k-1Y"
      },
      "outputs": [],
      "source": [
        "from sklearn.decomposition import PCA\n",
        "from sklearn import preprocessing"
      ]
    },
    {
      "cell_type": "code",
      "execution_count": null,
      "metadata": {
        "id": "WaM0G7dGk-1Y"
      },
      "outputs": [],
      "source": [
        "df=scale(df)"
      ]
    },
    {
      "cell_type": "code",
      "execution_count": null,
      "metadata": {
        "id": "dgaQxoq5k-1Y"
      },
      "outputs": [],
      "source": [
        "pca3_nocs = PCA(n_components=6)\n"
      ]
    },
    {
      "cell_type": "code",
      "execution_count": null,
      "metadata": {
        "id": "vBHhfz9Xk-1Y"
      },
      "outputs": [],
      "source": [
        "pca3_nocs_comp = pca3_nocs.fit_transform(dfp)\n"
      ]
    },
    {
      "cell_type": "code",
      "execution_count": null,
      "metadata": {
        "id": "2sRxBTEDk-1Z"
      },
      "outputs": [],
      "source": [
        "pca3_nocs_comp"
      ]
    },
    {
      "cell_type": "code",
      "execution_count": null,
      "metadata": {
        "id": "-DkJZAfwk-1Z"
      },
      "outputs": [],
      "source": [
        "pca3_nocs_egvct = pca3_nocs.components_"
      ]
    },
    {
      "cell_type": "code",
      "execution_count": null,
      "metadata": {
        "id": "AOy_ukVFk-1a"
      },
      "outputs": [],
      "source": [
        "pca3_nocs_egvct"
      ]
    },
    {
      "cell_type": "code",
      "execution_count": null,
      "metadata": {
        "id": "4q5hpdz1k-1a"
      },
      "outputs": [],
      "source": [
        "pca3_nocs_egvl = pca3_nocs.explained_variance_"
      ]
    },
    {
      "cell_type": "code",
      "execution_count": null,
      "metadata": {
        "id": "Sze2VJ1rk-1a"
      },
      "outputs": [],
      "source": [
        "pca3_nocs_egvl"
      ]
    },
    {
      "cell_type": "code",
      "execution_count": null,
      "metadata": {
        "id": "_v_dteqxk-1b"
      },
      "outputs": [],
      "source": []
    }
  ],
  "metadata": {
    "kernelspec": {
      "display_name": "Python 3 (ipykernel)",
      "language": "python",
      "name": "python3"
    },
    "language_info": {
      "codemirror_mode": {
        "name": "ipython",
        "version": 3
      },
      "file_extension": ".py",
      "mimetype": "text/x-python",
      "name": "python",
      "nbconvert_exporter": "python",
      "pygments_lexer": "ipython3",
      "version": "3.9.13"
    },
    "colab": {
      "provenance": [],
      "include_colab_link": true
    }
  },
  "nbformat": 4,
  "nbformat_minor": 0
}